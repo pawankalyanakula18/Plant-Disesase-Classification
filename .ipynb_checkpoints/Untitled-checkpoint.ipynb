{
 "cells": [
  {
   "cell_type": "code",
   "execution_count": 1,
   "id": "b02bdbdd-eadd-41ec-ae8a-765424ded3db",
   "metadata": {},
   "outputs": [
    {
     "ename": "ModuleNotFoundError",
     "evalue": "No module named 'matplotlib'",
     "output_type": "error",
     "traceback": [
      "\u001b[1;31m---------------------------------------------------------------------------\u001b[0m",
      "\u001b[1;31mModuleNotFoundError\u001b[0m                       Traceback (most recent call last)",
      "Cell \u001b[1;32mIn[1], line 1\u001b[0m\n\u001b[1;32m----> 1\u001b[0m \u001b[38;5;28;01mimport\u001b[39;00m \u001b[38;5;21;01mmatplotlib\u001b[39;00m\n",
      "\u001b[1;31mModuleNotFoundError\u001b[0m: No module named 'matplotlib'"
     ]
    }
   ],
   "source": [
    "import matplotlib\n"
   ]
  },
  {
   "cell_type": "code",
   "execution_count": 2,
   "id": "d8b8e2b9-8076-4ad5-bdce-abeb441c2c40",
   "metadata": {},
   "outputs": [
    {
     "name": "stdout",
     "output_type": "stream",
     "text": [
      "Collecting matplotlib\n",
      "  Downloading matplotlib-3.8.4-cp312-cp312-win_amd64.whl.metadata (5.9 kB)\n",
      "Collecting contourpy>=1.0.1 (from matplotlib)\n",
      "  Downloading contourpy-1.2.1-cp312-cp312-win_amd64.whl.metadata (5.8 kB)\n",
      "Collecting cycler>=0.10 (from matplotlib)\n",
      "  Downloading cycler-0.12.1-py3-none-any.whl.metadata (3.8 kB)\n",
      "Collecting fonttools>=4.22.0 (from matplotlib)\n",
      "  Downloading fonttools-4.51.0-cp312-cp312-win_amd64.whl.metadata (162 kB)\n",
      "     ---------------------------------------- 0.0/162.8 kB ? eta -:--:--\n",
      "     -- ------------------------------------- 10.2/162.8 kB ? eta -:--:--\n",
      "     ------ ------------------------------ 30.7/162.8 kB 435.7 kB/s eta 0:00:01\n",
      "     ------------- ----------------------- 61.4/162.8 kB 469.7 kB/s eta 0:00:01\n",
      "     ------------------------ ----------- 112.6/162.8 kB 726.2 kB/s eta 0:00:01\n",
      "     ------------------------------------ 162.8/162.8 kB 751.3 kB/s eta 0:00:00\n",
      "Collecting kiwisolver>=1.3.1 (from matplotlib)\n",
      "  Downloading kiwisolver-1.4.5-cp312-cp312-win_amd64.whl.metadata (6.5 kB)\n",
      "Requirement already satisfied: numpy>=1.21 in c:\\users\\pawan kalyan akula\\appdata\\local\\programs\\python\\python312\\lib\\site-packages (from matplotlib) (1.26.4)\n",
      "Requirement already satisfied: packaging>=20.0 in c:\\users\\pawan kalyan akula\\appdata\\roaming\\python\\python312\\site-packages (from matplotlib) (24.0)\n",
      "Collecting pillow>=8 (from matplotlib)\n",
      "  Downloading pillow-10.3.0-cp312-cp312-win_amd64.whl.metadata (9.4 kB)\n",
      "Collecting pyparsing>=2.3.1 (from matplotlib)\n",
      "  Downloading pyparsing-3.1.2-py3-none-any.whl.metadata (5.1 kB)\n",
      "Requirement already satisfied: python-dateutil>=2.7 in c:\\users\\pawan kalyan akula\\appdata\\roaming\\python\\python312\\site-packages (from matplotlib) (2.9.0.post0)\n",
      "Requirement already satisfied: six>=1.5 in c:\\users\\pawan kalyan akula\\appdata\\roaming\\python\\python312\\site-packages (from python-dateutil>=2.7->matplotlib) (1.16.0)\n",
      "Downloading matplotlib-3.8.4-cp312-cp312-win_amd64.whl (7.7 MB)\n",
      "   ---------------------------------------- 0.0/7.7 MB ? eta -:--:--\n",
      "    --------------------------------------- 0.1/7.7 MB 7.0 MB/s eta 0:00:02\n",
      "    --------------------------------------- 0.1/7.7 MB 7.0 MB/s eta 0:00:02\n",
      "   - -------------------------------------- 0.3/7.7 MB 2.2 MB/s eta 0:00:04\n",
      "   - -------------------------------------- 0.3/7.7 MB 1.7 MB/s eta 0:00:05\n",
      "   -- ------------------------------------- 0.5/7.7 MB 2.5 MB/s eta 0:00:03\n",
      "   --- ------------------------------------ 0.8/7.7 MB 2.8 MB/s eta 0:00:03\n",
      "   ----- ---------------------------------- 1.1/7.7 MB 3.6 MB/s eta 0:00:02\n",
      "   -------- ------------------------------- 1.5/7.7 MB 4.3 MB/s eta 0:00:02\n",
      "   ---------- ----------------------------- 2.1/7.7 MB 5.1 MB/s eta 0:00:02\n",
      "   ----------- ---------------------------- 2.2/7.7 MB 5.1 MB/s eta 0:00:02\n",
      "   ----------- ---------------------------- 2.2/7.7 MB 5.1 MB/s eta 0:00:02\n",
      "   -------------- ------------------------- 2.8/7.7 MB 5.1 MB/s eta 0:00:01\n",
      "   ---------------- ----------------------- 3.2/7.7 MB 5.3 MB/s eta 0:00:01\n",
      "   ------------------ --------------------- 3.6/7.7 MB 5.6 MB/s eta 0:00:01\n",
      "   --------------------- ------------------ 4.1/7.7 MB 6.0 MB/s eta 0:00:01\n",
      "   -------------------------- ------------- 5.1/7.7 MB 6.9 MB/s eta 0:00:01\n",
      "   ----------------------------- ---------- 5.6/7.7 MB 7.2 MB/s eta 0:00:01\n",
      "   ------------------------------ --------- 5.9/7.7 MB 7.2 MB/s eta 0:00:01\n",
      "   ------------------------------ --------- 5.9/7.7 MB 7.2 MB/s eta 0:00:01\n",
      "   ------------------------------ --------- 5.9/7.7 MB 7.2 MB/s eta 0:00:01\n",
      "   ------------------------------------ --- 7.0/7.7 MB 7.2 MB/s eta 0:00:01\n",
      "   ------------------------------------- -- 7.2/7.7 MB 7.1 MB/s eta 0:00:01\n",
      "   ---------------------------------------- 7.7/7.7 MB 7.2 MB/s eta 0:00:00\n",
      "Downloading contourpy-1.2.1-cp312-cp312-win_amd64.whl (189 kB)\n",
      "   ---------------------------------------- 0.0/189.9 kB ? eta -:--:--\n",
      "   --------------------------------------- 189.9/189.9 kB 11.2 MB/s eta 0:00:00\n",
      "Downloading cycler-0.12.1-py3-none-any.whl (8.3 kB)\n",
      "Downloading fonttools-4.51.0-cp312-cp312-win_amd64.whl (2.2 MB)\n",
      "   ---------------------------------------- 0.0/2.2 MB ? eta -:--:--\n",
      "   -------- ------------------------------- 0.5/2.2 MB 14.2 MB/s eta 0:00:01\n",
      "   ------------------ --------------------- 1.0/2.2 MB 12.6 MB/s eta 0:00:01\n",
      "   ---------------------------- ----------- 1.5/2.2 MB 12.2 MB/s eta 0:00:01\n",
      "   -------------------------------------- - 2.1/2.2 MB 12.1 MB/s eta 0:00:01\n",
      "   ---------------------------------------- 2.2/2.2 MB 10.7 MB/s eta 0:00:00\n",
      "Downloading kiwisolver-1.4.5-cp312-cp312-win_amd64.whl (56 kB)\n",
      "   ---------------------------------------- 0.0/56.0 kB ? eta -:--:--\n",
      "   ---------------------------------------- 56.0/56.0 kB 2.9 MB/s eta 0:00:00\n",
      "Downloading pillow-10.3.0-cp312-cp312-win_amd64.whl (2.5 MB)\n",
      "   ---------------------------------------- 0.0/2.5 MB ? eta -:--:--\n",
      "   -------- ------------------------------- 0.5/2.5 MB 16.3 MB/s eta 0:00:01\n",
      "   ---------------- ----------------------- 1.1/2.5 MB 13.5 MB/s eta 0:00:01\n",
      "   ------------------------- -------------- 1.6/2.5 MB 12.9 MB/s eta 0:00:01\n",
      "   --------------------------------- ------ 2.1/2.5 MB 12.4 MB/s eta 0:00:01\n",
      "   ---------------------------------------  2.5/2.5 MB 12.3 MB/s eta 0:00:01\n",
      "   ---------------------------------------- 2.5/2.5 MB 11.5 MB/s eta 0:00:00\n",
      "Downloading pyparsing-3.1.2-py3-none-any.whl (103 kB)\n",
      "   ---------------------------------------- 0.0/103.2 kB ? eta -:--:--\n",
      "   ---------------------------------------- 103.2/103.2 kB 5.8 MB/s eta 0:00:00\n",
      "Installing collected packages: pyparsing, pillow, kiwisolver, fonttools, cycler, contourpy, matplotlib\n",
      "Successfully installed contourpy-1.2.1 cycler-0.12.1 fonttools-4.51.0 kiwisolver-1.4.5 matplotlib-3.8.4 pillow-10.3.0 pyparsing-3.1.2\n"
     ]
    }
   ],
   "source": [
    "!pip install matplotlib"
   ]
  },
  {
   "cell_type": "code",
   "execution_count": 3,
   "id": "73825fc3-ebea-4d0b-8c8e-9de56488b8d1",
   "metadata": {},
   "outputs": [],
   "source": [
    "import matplotlib.pyplot as plt"
   ]
  },
  {
   "cell_type": "code",
   "execution_count": null,
   "id": "950a22c1-9d26-4eb3-9d8b-f57f51b0a0d9",
   "metadata": {},
   "outputs": [],
   "source": []
  }
 ],
 "metadata": {
  "kernelspec": {
   "display_name": "Python 3 (ipykernel)",
   "language": "python",
   "name": "python3"
  },
  "language_info": {
   "codemirror_mode": {
    "name": "ipython",
    "version": 3
   },
   "file_extension": ".py",
   "mimetype": "text/x-python",
   "name": "python",
   "nbconvert_exporter": "python",
   "pygments_lexer": "ipython3",
   "version": "3.12.1"
  }
 },
 "nbformat": 4,
 "nbformat_minor": 5
}
